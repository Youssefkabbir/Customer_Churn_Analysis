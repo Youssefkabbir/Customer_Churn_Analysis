{
 "cells": [
  {
   "cell_type": "code",
   "execution_count": 3,
   "id": "5cbf1004-21e8-4724-92db-bd1a54df3d98",
   "metadata": {},
   "outputs": [
    {
     "name": "stdout",
     "output_type": "stream",
     "text": [
      "the cell was executed without  error\n"
     ]
    }
   ],
   "source": [
    "# Data manipulation\n",
    "import pandas as pd  \n",
    "import numpy as np  \n",
    "\n",
    "# Data visualization\n",
    "import matplotlib.pyplot as plt  \n",
    "import seaborn as sns  \n",
    "import plotly.express as px  \n",
    "\n",
    "# Machine learning preprocessing & modeling\n",
    "from sklearn.model_selection import train_test_split  \n",
    "from sklearn.preprocessing import OneHotEncoder, StandardScaler  \n",
    "from sklearn.compose import ColumnTransformer  \n",
    "from sklearn.pipeline import Pipeline  \n",
    "from sklearn.ensemble import RandomForestClassifier  \n",
    "from sklearn.linear_model import LogisticRegression  \n",
    "from xgboost import XGBClassifier  \n",
    "# Model evaluation\n",
    "from sklearn.metrics import accuracy_score, classification_report, confusion_matrix, roc_auc_score  \n",
    "\n",
    "# Model saving & deployment\n",
    "import joblib  \n",
    "import pickle  \n",
    "import fastapi  \n",
    "import uvicorn  \n",
    "import flask  \n",
    "import streamlit  \n",
    "print('the cell was executed without  error')"
   ]
  },
  {
   "cell_type": "code",
   "execution_count": null,
   "id": "da249afd-04aa-4f9c-91a6-db6a7dfb309f",
   "metadata": {},
   "outputs": [],
   "source": []
  }
 ],
 "metadata": {
  "kernelspec": {
   "display_name": "Python 3 (ipykernel)",
   "language": "python",
   "name": "python3"
  },
  "language_info": {
   "codemirror_mode": {
    "name": "ipython",
    "version": 3
   },
   "file_extension": ".py",
   "mimetype": "text/x-python",
   "name": "python",
   "nbconvert_exporter": "python",
   "pygments_lexer": "ipython3",
   "version": "3.12.8"
  }
 },
 "nbformat": 4,
 "nbformat_minor": 5
}
